{
 "cells": [
  {
   "cell_type": "markdown",
   "id": "b9a3ec7a",
   "metadata": {},
   "source": [
    "### LSE Data Analytics Online Career Accelerator \n",
    "\n",
    "# DA201:  Data Analytics using Python"
   ]
  },
  {
   "cell_type": "markdown",
   "id": "1dbdb90d",
   "metadata": {},
   "source": [
    "## Week 1: Introduction to Python programming!"
   ]
  },
  {
   "cell_type": "markdown",
   "id": "a24170c4",
   "metadata": {},
   "source": [
    "The focus this week is on introducing, setting up, and exploring Python. You will use this notebook to follow along with the demonstrations throughout the week. If you are using Jupyter Notebook for the first time, please refer to the documentation to lear about the interface and how best to use your notebook. \n",
    "\n",
    "Learn about using your Jupyter Notebook here: https://jupyter-notebook.readthedocs.io/en/latest/ui_components.html\n",
    "\n",
    "This is your notebook. Use it to follow along with the demonstrations, test ideas and explore what is possible. The hands-on experience of writing your own code will accelerate your learning!"
   ]
  },
  {
   "cell_type": "markdown",
   "id": "11cfebf7",
   "metadata": {},
   "source": [
    "### 1.1 Python for data analysis "
   ]
  },
  {
   "cell_type": "markdown",
   "id": "f04b9be3",
   "metadata": {},
   "source": [
    "There are no Jupyter Notebook demonstrations in this section."
   ]
  },
  {
   "cell_type": "markdown",
   "id": "ca098172",
   "metadata": {},
   "source": [
    "# "
   ]
  },
  {
   "cell_type": "markdown",
   "id": "4dd362eb",
   "metadata": {},
   "source": [
    "### 1.2 Basics of Python programming"
   ]
  },
  {
   "cell_type": "code",
   "execution_count": null,
   "id": "05c6b44b",
   "metadata": {},
   "outputs": [],
   "source": []
  },
  {
   "cell_type": "code",
   "execution_count": null,
   "id": "ca05fefd",
   "metadata": {},
   "outputs": [],
   "source": []
  },
  {
   "cell_type": "code",
   "execution_count": null,
   "id": "07198d41",
   "metadata": {},
   "outputs": [],
   "source": []
  },
  {
   "cell_type": "code",
   "execution_count": null,
   "id": "36fd6c83",
   "metadata": {},
   "outputs": [],
   "source": []
  },
  {
   "cell_type": "markdown",
   "id": "19a75485",
   "metadata": {},
   "source": [
    "# "
   ]
  },
  {
   "cell_type": "markdown",
   "id": "72d11285",
   "metadata": {},
   "source": [
    "### 1.3 Python libraries and reproducibility of code"
   ]
  },
  {
   "cell_type": "code",
   "execution_count": null,
   "id": "858e53a9",
   "metadata": {},
   "outputs": [],
   "source": []
  },
  {
   "cell_type": "code",
   "execution_count": null,
   "id": "d7c458df",
   "metadata": {},
   "outputs": [],
   "source": []
  },
  {
   "cell_type": "code",
   "execution_count": null,
   "id": "01029438",
   "metadata": {},
   "outputs": [],
   "source": []
  },
  {
   "cell_type": "code",
   "execution_count": null,
   "id": "52c18b71",
   "metadata": {},
   "outputs": [],
   "source": []
  }
 ],
 "metadata": {
  "kernelspec": {
   "display_name": "Python 3 (ipykernel)",
   "language": "python",
   "name": "python3"
  },
  "language_info": {
   "codemirror_mode": {
    "name": "ipython",
    "version": 3
   },
   "file_extension": ".py",
   "mimetype": "text/x-python",
   "name": "python",
   "nbconvert_exporter": "python",
   "pygments_lexer": "ipython3",
   "version": "3.9.12"
  }
 },
 "nbformat": 4,
 "nbformat_minor": 5
}
